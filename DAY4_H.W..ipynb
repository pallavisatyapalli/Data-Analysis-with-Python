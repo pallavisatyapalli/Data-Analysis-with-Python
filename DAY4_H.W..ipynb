{
 "cells": [
  {
   "cell_type": "code",
   "execution_count": 35,
   "id": "2b89a3bf",
   "metadata": {},
   "outputs": [],
   "source": [
    "import selenium"
   ]
  },
  {
   "cell_type": "code",
   "execution_count": 36,
   "id": "ffb7eaea",
   "metadata": {},
   "outputs": [],
   "source": [
    "from selenium import webdriver\n",
    "from selenium.webdriver.chrome.options import Options\n",
    "from selenium.webdriver.common.by import By\n",
    "from selenium.webdriver.common.keys import Keys\n",
    "from webdriver_manager.chrome import ChromeDriverManager\n",
    "import pandas as pd"
   ]
  },
  {
   "cell_type": "code",
   "execution_count": 37,
   "id": "ee494fce",
   "metadata": {},
   "outputs": [],
   "source": [
    "options=webdriver.ChromeOptions()\n",
    "driver=webdriver.Chrome(options=options)"
   ]
  },
  {
   "cell_type": "code",
   "execution_count": 38,
   "id": "c9f883c4",
   "metadata": {},
   "outputs": [],
   "source": [
    "driver.get('https://www.amazon.in/')"
   ]
  },
  {
   "cell_type": "code",
   "execution_count": 39,
   "id": "a7d9693d",
   "metadata": {},
   "outputs": [],
   "source": [
    "search=driver.find_element(By.XPATH,\".//input[@id='twotabsearchtextbox']\")"
   ]
  },
  {
   "cell_type": "code",
   "execution_count": 40,
   "id": "483c0e1f",
   "metadata": {},
   "outputs": [],
   "source": [
    "search.send_keys(\"Dell laptops\")"
   ]
  },
  {
   "cell_type": "code",
   "execution_count": 41,
   "id": "3b67c790",
   "metadata": {},
   "outputs": [],
   "source": [
    "search.send_keys(Keys.ENTER)"
   ]
  },
  {
   "cell_type": "code",
   "execution_count": 43,
   "id": "14bcb50a",
   "metadata": {},
   "outputs": [],
   "source": [
    "product=driver.find_elements(By.XPATH,\".//span[@class='a-size-medium a-color-base a-text-normal']\")\n",
    "product=[i.text for i in product]"
   ]
  },
  {
   "cell_type": "code",
   "execution_count": 44,
   "id": "f7629593",
   "metadata": {},
   "outputs": [
    {
     "name": "stdout",
     "output_type": "stream",
     "text": [
      "['Dell 15 Laptop, Intel 12th Gen Core i3-1215U Proc/8GB DDR4/512GB SSD/Intel UHD Graphic/15.6\" (38cm) FHD Display/Spill-Resistant Keyboard/Win11+MSO\\'21/15 Month McAfee/Black/Thin & Light 1.69kg', 'Dell 14 Laptop, 12th Gen Intel Core i3-1215U Processor/8GB/512GB SSD/Intel UHD Graphics/14.0\"(35.56cm) FHD/Windows 11 + MSO\\'21/15 Month McAfee/Spill-Resistant Keyboard/Grey/Thin & Light 1.48kg', 'Dell 15 Laptop, Intel Core i5-1135G7 Processor/ 8GB/ 1TB+256GB SSD/15.6\"(39.62cm) FHD Display/Mobile Connect/Windows 11 + MSO\\'21/15 Month McAfee/Spill-Resistant Keyboard/Black/Thin & Light 1.69kg', 'Dell 15 Laptop, Intel Core i5-1135G7 Processor/ 8GB DDR4/ 512GB SSD/ 15.6\" (39.62cm) FHD/Mobile Connect/Windows 11 + MSO\\'21/15 Month McAfee/Spill-Resistant Keyboard/Carbon Black/Thin & Light-1.69kg', 'Dell 14 Laptop, 12th Gen Intel Core i5-1235U Processor, 16GB, 512GB, 14.0\" (35.56cm) FHD Display, Windows 11 + MSO\\'21, Spill-Resistant Keyboard, 15 Month Mcafee, Black, Thin & Light- 1.48kg', 'Dell 15 Laptop, Intel Core i3-1115G4 Processor/8GB DDR4/512GB SSD/Intel UHD Graphics/15.6\" (39.6cm) FHD 120Hz Refresh, 250 nits/Mobile Connect/Win 11+MSO\\'21/15 Month McAfee/Black/Thin & Light-1.66kg', 'Dell Inspiron 3530 Laptop, 13th Gen Intel Core i5-1335U Processor/16GB/1TB SSD/15.6\" (39.62cm) FHD Display/Backlit Keyboard/Platinum Silver/Win 11 + MSO\\'21/15 Month McAfee/Thin & Light- 1.66kg', 'Dell 14 Laptop, 12th Gen Intel Core i3-1215U Processor/8GB/512GB SSD/Intel UHD Graphics/14.0\"(35.56cm) FHD/Windows 11 + MSO\\'21/15 Month McAfee/Spill-Resistant Keyboard/Grey/Thin & Light 1.48kg', 'Dell 15 Laptop, Intel Core i5-1135G7 Processor/16GB DDR4/512GB SSD/Intel UHD Graphic/15.6\" (39.562cm) FHD Display/Win 11+MSO\\'21/15 Month McAfee/Spill-Resistant Keyboard/Carbon/Thin & Light 1.69kg', 'Dell 14 Laptop, AMD Ryzen R5-5500U/ 8GB DDR4, 2400 MHz/ 512GB/ 14.0\" (35.56cm) FHD Display with Comfort View/Windows 11 + MSO\\'21/15 Month McAfee/Spill-Resistant Keyboard/Carbon Black/ 1.48kg', 'Lenovo ThinkBook 15 Intel 12th Gen Core i5 15.6\" (39.62cm) FHD 250 Nits Antiglare Thin and Light Laptop (8GB/512GB SSD/Windows 11 Home/Backlit/Mineral Grey/1Y Premier Support/1.7 Kg), 21DJ00EXIH', 'Lenovo ThinkPad E14 Intel Core i5 13th Gen 14\" WUXGA IPS 300 Nits Thin and Light Laptop (16GB RAM/512GB SSD/Windows 11 Home/Backlit Keyboard/FPR/Black/1.41 kg), 21JKS0UA00', 'Dell 15 Laptop, Intel 12th Gen Core i3-1215U Proc/8GB DDR4/512GB SSD/Intel UHD Graphic/15.6\" (38cm) FHD Display/Spill-Resistant Keyboard/Win11+MSO\\'21/15 Month McAfee/Black/Thin & Light 1.69kg', 'Dell Inspiron 3530 Laptop, Intel Core i7-1355U Processor, 16GB, 512GB, 15.6\" (39.62cm) FHD WVA AG 120Hz, Backlit KB + FPR, Win 11 + MSO\\'21, 15 Month McAfee, Silver, 1.62kg', 'Dell G15 5530 Gaming Laptop, Intel i7-13650HX/16GB/1TB SSD/NVIDIA RTX 3050, 6 GB GDDR6/15.6\" (39.62cm) FHD AG 120Hz 250 nits/Backlit KB RGB/Dark Shadow Grey/Win 11+MSO\\'21/15 Month McAfee/2.65kg', 'Dell G15 5520 Gaming Laptop, Intel i5-12500H, 16GB DDR5, 512GB SSD, NVIDIA RTX 3050 (4GB GDDR6), 15.6\"(39.62cm) FHD 120Hz 250 nits Display, Backlit KB Orange, Win 11 + MSO\\'21, Dark Shadow Grey, 2.81kg', 'Dell G15-5520 Gaming Laptop, Intel i5-12500H/8GB DDR5/512GB SSD/Win 11 + MSO\\'21/NVIDIA RTX 3050 (4GB GDDR6)/15.6\" (39.62cm) FHD WVA AG 120Hz 250 nits/Backlit KB Orange/Dark Shadow Grey/2.81kg', 'Dell Inspiron 3520 Laptop, Intel Core i5-1235U Processor, 8GB, 512GB, 15.6\" (39.62cm) FHD WVA AG 120Hz 250 nits, Win 11 + MSO\\'21, 15 Month MCAfee, Black, 1.65kg', 'Dell 14 Metal Body Premium Laptop, Intel Core i5-1235U Proc/16GB DDR4/512GB SSD/Intel UHD Graphics/14.0\" (35.56cm) FHD/Backlit Keyboard/Thin & Light 1.48kg/Win 11 + MSO\\'21/15 Month McAfee/Dark Silver', 'Dell 15 Laptop, Intel Core i5-1135G7 Processor/8GB DDR4/512GB/Intel UHD Graphic/15.6\" (39.62cm) FHD/Backlit KB + FPR/Mobile Connect/Windows 11 + MSO\\'21/15 Months McAfee/Dark Silver/Thin & Light 1.69kg', 'Lenovo IdeaPad Gaming 3 Intel Core i5-11320H 15.6\" (39.62cm) FHD IPS 60Hz Gaming Laptop (8GB/512GB SSD/Windows 11/NVIDIA RTX 2050 4GB/Alexa/3 Month Game Pass/Shadow Black/2.25Kg), 82K101PCIN', 'HP OMEN Gaming Laptop, AMD Ryzen 7 6800H, 8GB RTX 3070Ti GPU, 16.1-inch (40.9 cm), QHD, IPS, 165Hz, 16GB DDR5, 1TB SSD, 300 nits, RGB Backlit KB, B&O, Dual Speakers (MSO, Silver, 2.37 kg), n0123AX']\n",
      "22\n"
     ]
    }
   ],
   "source": [
    "print(product)\n",
    "print(len(product))"
   ]
  },
  {
   "cell_type": "code",
   "execution_count": 45,
   "id": "7ce89749",
   "metadata": {},
   "outputs": [],
   "source": [
    "price=driver.find_elements(By.XPATH,\".//span[@class='a-price-whole']\")\n",
    "price=[i.text for i in price]"
   ]
  },
  {
   "cell_type": "code",
   "execution_count": 46,
   "id": "81ceb463",
   "metadata": {},
   "outputs": [
    {
     "name": "stdout",
     "output_type": "stream",
     "text": [
      "['35,990', '35,990', '44,990', '43,990', '49,990', '33,990', '67,980', '35,990', '47,990', '35,990', '53,990', '73,990', '35,990', '71,490', '99,990', '71,990', '65,990', '46,600', '55,990', '43,990', '50,990', '1,09,990']\n",
      "22\n"
     ]
    }
   ],
   "source": [
    "print(price)\n",
    "print(len(price))"
   ]
  },
  {
   "cell_type": "code",
   "execution_count": 47,
   "id": "1980b0ad",
   "metadata": {},
   "outputs": [],
   "source": [
    "tod=driver.find_elements(By.XPATH,\".//span[@class='a-color-base']\")\n",
    "tod=[i.text for i in tod]"
   ]
  },
  {
   "cell_type": "code",
   "execution_count": 48,
   "id": "66e6d676",
   "metadata": {},
   "outputs": [
    {
     "name": "stdout",
     "output_type": "stream",
     "text": [
      "['', 'FREE delivery', 'Or fastest delivery', '', 'FREE delivery', 'Or fastest delivery', 'FREE delivery', 'Or fastest delivery', 'FREE delivery', 'Or fastest delivery', 'FREE delivery', 'Or fastest delivery', 'FREE delivery', 'Or fastest delivery', 'FREE delivery', 'Or fastest delivery', '₹66,999', 'FREE delivery', 'Or fastest delivery', 'FREE delivery', 'Or fastest delivery', 'FREE delivery', 'Or fastest delivery', '', 'FREE delivery', 'Or fastest delivery', '', 'FREE delivery', 'Or fastest delivery', 'FREE delivery', 'Or fastest delivery', 'FREE delivery', 'FREE delivery', 'Or fastest delivery', 'FREE delivery', 'Or fastest delivery', 'FREE delivery', 'Or fastest delivery', 'FREE delivery', '₹46,550', 'FREE delivery', 'Or fastest delivery', 'FREE delivery', 'Or fastest delivery', '', 'FREE delivery', '', 'FREE delivery', 'Or fastest delivery', 'Do something wonderful with Intel® Core™ laptops', 'AMD powered gaming laptops']\n",
      "51\n"
     ]
    }
   ],
   "source": [
    "print(tod)\n",
    "print(len(tod))"
   ]
  },
  {
   "cell_type": "code",
   "execution_count": 53,
   "id": "c5cbb026",
   "metadata": {},
   "outputs": [
    {
     "data": {
      "text/html": [
       "<div>\n",
       "<style scoped>\n",
       "    .dataframe tbody tr th:only-of-type {\n",
       "        vertical-align: middle;\n",
       "    }\n",
       "\n",
       "    .dataframe tbody tr th {\n",
       "        vertical-align: top;\n",
       "    }\n",
       "\n",
       "    .dataframe thead th {\n",
       "        text-align: right;\n",
       "    }\n",
       "</style>\n",
       "<table border=\"1\" class=\"dataframe\">\n",
       "  <thead>\n",
       "    <tr style=\"text-align: right;\">\n",
       "      <th></th>\n",
       "      <th>Product</th>\n",
       "      <th>Price</th>\n",
       "    </tr>\n",
       "  </thead>\n",
       "  <tbody>\n",
       "  </tbody>\n",
       "</table>\n",
       "</div>"
      ],
      "text/plain": [
       "Empty DataFrame\n",
       "Columns: [Product, Price]\n",
       "Index: []"
      ]
     },
     "execution_count": 53,
     "metadata": {},
     "output_type": "execute_result"
    }
   ],
   "source": [
    "hdf=pd.DataFrame(columns=[\"Product\",\"Price\"])\n",
    "hdf"
   ]
  },
  {
   "cell_type": "code",
   "execution_count": 54,
   "id": "aab2c471",
   "metadata": {},
   "outputs": [],
   "source": [
    "hdf['Product']=product\n",
    "hdf['Price']=price\n",
    "#hdf['Delivery']=tod"
   ]
  },
  {
   "cell_type": "code",
   "execution_count": 55,
   "id": "998450ef",
   "metadata": {},
   "outputs": [
    {
     "data": {
      "text/html": [
       "<div>\n",
       "<style scoped>\n",
       "    .dataframe tbody tr th:only-of-type {\n",
       "        vertical-align: middle;\n",
       "    }\n",
       "\n",
       "    .dataframe tbody tr th {\n",
       "        vertical-align: top;\n",
       "    }\n",
       "\n",
       "    .dataframe thead th {\n",
       "        text-align: right;\n",
       "    }\n",
       "</style>\n",
       "<table border=\"1\" class=\"dataframe\">\n",
       "  <thead>\n",
       "    <tr style=\"text-align: right;\">\n",
       "      <th></th>\n",
       "      <th>Product</th>\n",
       "      <th>Price</th>\n",
       "    </tr>\n",
       "  </thead>\n",
       "  <tbody>\n",
       "    <tr>\n",
       "      <th>0</th>\n",
       "      <td>Dell 15 Laptop, Intel 12th Gen Core i3-1215U P...</td>\n",
       "      <td>35,990</td>\n",
       "    </tr>\n",
       "    <tr>\n",
       "      <th>1</th>\n",
       "      <td>Dell 14 Laptop, 12th Gen Intel Core i3-1215U P...</td>\n",
       "      <td>35,990</td>\n",
       "    </tr>\n",
       "    <tr>\n",
       "      <th>2</th>\n",
       "      <td>Dell 15 Laptop, Intel Core i5-1135G7 Processor...</td>\n",
       "      <td>44,990</td>\n",
       "    </tr>\n",
       "    <tr>\n",
       "      <th>3</th>\n",
       "      <td>Dell 15 Laptop, Intel Core i5-1135G7 Processor...</td>\n",
       "      <td>43,990</td>\n",
       "    </tr>\n",
       "    <tr>\n",
       "      <th>4</th>\n",
       "      <td>Dell 14 Laptop, 12th Gen Intel Core i5-1235U P...</td>\n",
       "      <td>49,990</td>\n",
       "    </tr>\n",
       "    <tr>\n",
       "      <th>5</th>\n",
       "      <td>Dell 15 Laptop, Intel Core i3-1115G4 Processor...</td>\n",
       "      <td>33,990</td>\n",
       "    </tr>\n",
       "    <tr>\n",
       "      <th>6</th>\n",
       "      <td>Dell Inspiron 3530 Laptop, 13th Gen Intel Core...</td>\n",
       "      <td>67,980</td>\n",
       "    </tr>\n",
       "    <tr>\n",
       "      <th>7</th>\n",
       "      <td>Dell 14 Laptop, 12th Gen Intel Core i3-1215U P...</td>\n",
       "      <td>35,990</td>\n",
       "    </tr>\n",
       "    <tr>\n",
       "      <th>8</th>\n",
       "      <td>Dell 15 Laptop, Intel Core i5-1135G7 Processor...</td>\n",
       "      <td>47,990</td>\n",
       "    </tr>\n",
       "    <tr>\n",
       "      <th>9</th>\n",
       "      <td>Dell 14 Laptop, AMD Ryzen R5-5500U/ 8GB DDR4, ...</td>\n",
       "      <td>35,990</td>\n",
       "    </tr>\n",
       "    <tr>\n",
       "      <th>10</th>\n",
       "      <td>Lenovo ThinkBook 15 Intel 12th Gen Core i5 15....</td>\n",
       "      <td>53,990</td>\n",
       "    </tr>\n",
       "    <tr>\n",
       "      <th>11</th>\n",
       "      <td>Lenovo ThinkPad E14 Intel Core i5 13th Gen 14\"...</td>\n",
       "      <td>73,990</td>\n",
       "    </tr>\n",
       "    <tr>\n",
       "      <th>12</th>\n",
       "      <td>Dell 15 Laptop, Intel 12th Gen Core i3-1215U P...</td>\n",
       "      <td>35,990</td>\n",
       "    </tr>\n",
       "    <tr>\n",
       "      <th>13</th>\n",
       "      <td>Dell Inspiron 3530 Laptop, Intel Core i7-1355U...</td>\n",
       "      <td>71,490</td>\n",
       "    </tr>\n",
       "    <tr>\n",
       "      <th>14</th>\n",
       "      <td>Dell G15 5530 Gaming Laptop, Intel i7-13650HX/...</td>\n",
       "      <td>99,990</td>\n",
       "    </tr>\n",
       "    <tr>\n",
       "      <th>15</th>\n",
       "      <td>Dell G15 5520 Gaming Laptop, Intel i5-12500H, ...</td>\n",
       "      <td>71,990</td>\n",
       "    </tr>\n",
       "    <tr>\n",
       "      <th>16</th>\n",
       "      <td>Dell G15-5520 Gaming Laptop, Intel i5-12500H/8...</td>\n",
       "      <td>65,990</td>\n",
       "    </tr>\n",
       "    <tr>\n",
       "      <th>17</th>\n",
       "      <td>Dell Inspiron 3520 Laptop, Intel Core i5-1235U...</td>\n",
       "      <td>46,600</td>\n",
       "    </tr>\n",
       "    <tr>\n",
       "      <th>18</th>\n",
       "      <td>Dell 14 Metal Body Premium Laptop, Intel Core ...</td>\n",
       "      <td>55,990</td>\n",
       "    </tr>\n",
       "    <tr>\n",
       "      <th>19</th>\n",
       "      <td>Dell 15 Laptop, Intel Core i5-1135G7 Processor...</td>\n",
       "      <td>43,990</td>\n",
       "    </tr>\n",
       "    <tr>\n",
       "      <th>20</th>\n",
       "      <td>Lenovo IdeaPad Gaming 3 Intel Core i5-11320H 1...</td>\n",
       "      <td>50,990</td>\n",
       "    </tr>\n",
       "    <tr>\n",
       "      <th>21</th>\n",
       "      <td>HP OMEN Gaming Laptop, AMD Ryzen 7 6800H, 8GB ...</td>\n",
       "      <td>1,09,990</td>\n",
       "    </tr>\n",
       "  </tbody>\n",
       "</table>\n",
       "</div>"
      ],
      "text/plain": [
       "                                              Product     Price\n",
       "0   Dell 15 Laptop, Intel 12th Gen Core i3-1215U P...    35,990\n",
       "1   Dell 14 Laptop, 12th Gen Intel Core i3-1215U P...    35,990\n",
       "2   Dell 15 Laptop, Intel Core i5-1135G7 Processor...    44,990\n",
       "3   Dell 15 Laptop, Intel Core i5-1135G7 Processor...    43,990\n",
       "4   Dell 14 Laptop, 12th Gen Intel Core i5-1235U P...    49,990\n",
       "5   Dell 15 Laptop, Intel Core i3-1115G4 Processor...    33,990\n",
       "6   Dell Inspiron 3530 Laptop, 13th Gen Intel Core...    67,980\n",
       "7   Dell 14 Laptop, 12th Gen Intel Core i3-1215U P...    35,990\n",
       "8   Dell 15 Laptop, Intel Core i5-1135G7 Processor...    47,990\n",
       "9   Dell 14 Laptop, AMD Ryzen R5-5500U/ 8GB DDR4, ...    35,990\n",
       "10  Lenovo ThinkBook 15 Intel 12th Gen Core i5 15....    53,990\n",
       "11  Lenovo ThinkPad E14 Intel Core i5 13th Gen 14\"...    73,990\n",
       "12  Dell 15 Laptop, Intel 12th Gen Core i3-1215U P...    35,990\n",
       "13  Dell Inspiron 3530 Laptop, Intel Core i7-1355U...    71,490\n",
       "14  Dell G15 5530 Gaming Laptop, Intel i7-13650HX/...    99,990\n",
       "15  Dell G15 5520 Gaming Laptop, Intel i5-12500H, ...    71,990\n",
       "16  Dell G15-5520 Gaming Laptop, Intel i5-12500H/8...    65,990\n",
       "17  Dell Inspiron 3520 Laptop, Intel Core i5-1235U...    46,600\n",
       "18  Dell 14 Metal Body Premium Laptop, Intel Core ...    55,990\n",
       "19  Dell 15 Laptop, Intel Core i5-1135G7 Processor...    43,990\n",
       "20  Lenovo IdeaPad Gaming 3 Intel Core i5-11320H 1...    50,990\n",
       "21  HP OMEN Gaming Laptop, AMD Ryzen 7 6800H, 8GB ...  1,09,990"
      ]
     },
     "execution_count": 55,
     "metadata": {},
     "output_type": "execute_result"
    }
   ],
   "source": [
    "hdf"
   ]
  },
  {
   "cell_type": "code",
   "execution_count": 56,
   "id": "9b121e98",
   "metadata": {},
   "outputs": [],
   "source": [
    "hdf.to_csv(\"hdf.csv\")"
   ]
  },
  {
   "cell_type": "code",
   "execution_count": null,
   "id": "d4ad521d",
   "metadata": {},
   "outputs": [],
   "source": []
  }
 ],
 "metadata": {
  "kernelspec": {
   "display_name": "Python 3 (ipykernel)",
   "language": "python",
   "name": "python3"
  },
  "language_info": {
   "codemirror_mode": {
    "name": "ipython",
    "version": 3
   },
   "file_extension": ".py",
   "mimetype": "text/x-python",
   "name": "python",
   "nbconvert_exporter": "python",
   "pygments_lexer": "ipython3",
   "version": "3.11.5"
  }
 },
 "nbformat": 4,
 "nbformat_minor": 5
}
